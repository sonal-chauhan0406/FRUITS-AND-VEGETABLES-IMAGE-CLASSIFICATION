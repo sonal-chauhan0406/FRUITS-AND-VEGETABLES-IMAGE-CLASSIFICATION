{
  "cells": [
    {
      "cell_type": "markdown",
      "metadata": {
        "id": "BMJkZFMDvhlV"
      },
      "source": [
        "#IMPORTING DATASET"
      ]
    },
    {
      "cell_type": "code",
      "execution_count": 1,
      "metadata": {
        "colab": {
          "base_uri": "https://localhost:8080/"
        },
        "id": "7H71h7xFvmkR",
        "outputId": "c4a3c78a-bd4b-42f9-ef55-56412cc30674"
      },
      "outputs": [
        {
          "name": "stdout",
          "output_type": "stream",
          "text": [
            "Drive already mounted at /content/drive; to attempt to forcibly remount, call drive.mount(\"/content/drive\", force_remount=True).\n"
          ]
        }
      ],
      "source": [
        "from google.colab import drive\n",
        "drive.mount('/content/drive')"
      ]
    },
    {
      "cell_type": "markdown",
      "metadata": {
        "id": "qtMsFYR_v4jq"
      },
      "source": [
        "#IMPORTING LIBRARIES"
      ]
    },
    {
      "cell_type": "code",
      "execution_count": 2,
      "metadata": {
        "id": "szS9cFervv0s"
      },
      "outputs": [],
      "source": [
        "import numpy as np\n",
        "import tensorflow as tf\n",
        "import matplotlib.pyplot as plt"
      ]
    },
    {
      "cell_type": "markdown",
      "metadata": {
        "id": "grZnk43Nv_9Y"
      },
      "source": [
        "#DATA PREPROCESSING"
      ]
    },
    {
      "cell_type": "markdown",
      "metadata": {
        "id": "5e2QSSSmwDp6"
      },
      "source": [
        "###Training Image Preprocessing"
      ]
    },
    {
      "cell_type": "code",
      "execution_count": 3,
      "metadata": {
        "colab": {
          "base_uri": "https://localhost:8080/"
        },
        "id": "va44I7G0v8hh",
        "outputId": "995a53cf-5834-4911-f38d-06883f5d158e"
      },
      "outputs": [
        {
          "name": "stdout",
          "output_type": "stream",
          "text": [
            "Found 3114 files belonging to 36 classes.\n"
          ]
        }
      ],
      "source": [
        "training_set= tf.keras.utils.image_dataset_from_directory(\n",
        "    '/content/drive/MyDrive/Fruits_Vegetable_Recognition/train',\n",
        "    labels = 'inferred',\n",
        "    label_mode = 'categorical',\n",
        "    class_names = None,\n",
        "    color_mode = 'rgb',\n",
        "    batch_size = 32,\n",
        "    image_size = (64,64),\n",
        "    shuffle = True,\n",
        "    seed = None,\n",
        "    validation_split = None,\n",
        "    subset = None,\n",
        "    interpolation = 'bilinear',\n",
        "    follow_links = False,\n",
        "    crop_to_aspect_ratio = False\n",
        ")"
      ]
    },
    {
      "cell_type": "markdown",
      "metadata": {
        "id": "8d67Jtl0wTxu"
      },
      "source": [
        "###Validation Image preprocessing"
      ]
    },
    {
      "cell_type": "code",
      "execution_count": 4,
      "metadata": {
        "colab": {
          "base_uri": "https://localhost:8080/"
        },
        "id": "x-ETLWDAwP4V",
        "outputId": "d1bb453c-22d2-4ebe-bc12-29ad67d45a4c"
      },
      "outputs": [
        {
          "name": "stdout",
          "output_type": "stream",
          "text": [
            "Found 351 files belonging to 36 classes.\n"
          ]
        }
      ],
      "source": [
        "validation_set = tf.keras.utils.image_dataset_from_directory(\n",
        "    '/content/drive/MyDrive/Fruits_Vegetable_Recognition/validation',\n",
        "    labels = 'inferred',\n",
        "    label_mode = 'categorical',\n",
        "    class_names = None,\n",
        "    color_mode = 'rgb',\n",
        "    batch_size = 32,\n",
        "    image_size = (64,64),\n",
        "    shuffle = True,\n",
        "    seed = None,\n",
        "    validation_split = None,\n",
        "    subset = None,\n",
        "    interpolation = 'bilinear',\n",
        "    follow_links = False,\n",
        "    crop_to_aspect_ratio = False\n",
        ")"
      ]
    },
    {
      "cell_type": "markdown",
      "metadata": {
        "id": "WbEsP_siwfDL"
      },
      "source": [
        "#BUILDING MODEL"
      ]
    },
    {
      "cell_type": "code",
      "execution_count": 5,
      "metadata": {
        "id": "45Z16PBnwbni"
      },
      "outputs": [],
      "source": [
        "cnn = tf.keras.models.Sequential()"
      ]
    },
    {
      "cell_type": "markdown",
      "metadata": {
        "id": "FI0fGN2jwlrk"
      },
      "source": [
        "###Building Convolution Layer"
      ]
    },
    {
      "cell_type": "code",
      "execution_count": 6,
      "metadata": {
        "colab": {
          "base_uri": "https://localhost:8080/"
        },
        "id": "iMF3o-GLwkc0",
        "outputId": "8286bb89-7121-4e83-cc9d-14cd46d5da26"
      },
      "outputs": [
        {
          "name": "stderr",
          "output_type": "stream",
          "text": [
            "/usr/local/lib/python3.12/dist-packages/keras/src/layers/convolutional/base_conv.py:113: UserWarning: Do not pass an `input_shape`/`input_dim` argument to a layer. When using Sequential models, prefer using an `Input(shape)` object as the first layer in the model instead.\n",
            "  super().__init__(activity_regularizer=activity_regularizer, **kwargs)\n"
          ]
        }
      ],
      "source": [
        "cnn.add(tf.keras.layers.Conv2D(filters=64,kernel_size=3,activation='relu',input_shape=[64,64,3]))\n",
        "cnn.add(tf.keras.layers.MaxPool2D(pool_size=2,strides=2))"
      ]
    },
    {
      "cell_type": "code",
      "execution_count": 7,
      "metadata": {
        "id": "JFBbvFnlwtEI"
      },
      "outputs": [],
      "source": [
        "#To Reduce the size of the layer to focus on the important feature running it twice\n",
        "cnn.add(tf.keras.layers.Conv2D(filters=64,kernel_size=3,activation='relu'))\n",
        "cnn.add(tf.keras.layers.MaxPool2D(pool_size=2,strides=2))"
      ]
    },
    {
      "cell_type": "code",
      "execution_count": 8,
      "metadata": {
        "id": "A-IstTDDw2-I"
      },
      "outputs": [],
      "source": [
        "cnn.add(tf.keras.layers.Dropout(0.5)) # To avoid Overfitting"
      ]
    },
    {
      "cell_type": "code",
      "execution_count": 9,
      "metadata": {
        "id": "Pr04qS-dw5ul"
      },
      "outputs": [],
      "source": [
        "cnn.add(tf.keras.layers.Flatten())"
      ]
    },
    {
      "cell_type": "code",
      "execution_count": 10,
      "metadata": {
        "id": "AEGrWlGew8ko"
      },
      "outputs": [],
      "source": [
        "cnn.add(tf.keras.layers.Dense(units=128,activation='relu'))"
      ]
    },
    {
      "cell_type": "code",
      "execution_count": 11,
      "metadata": {
        "id": "AsPAGa5zw-sv"
      },
      "outputs": [],
      "source": [
        "cnn.add(tf.keras.layers.Dense(units=36,activation='softmax')) #Output layer"
      ]
    },
    {
      "cell_type": "markdown",
      "metadata": {
        "id": "Ry1kr4B_xDaH"
      },
      "source": [
        "#COMPILING AND TRAINING PHASE"
      ]
    },
    {
      "cell_type": "code",
      "execution_count": 12,
      "metadata": {
        "id": "zPP1PPH7xBLN"
      },
      "outputs": [],
      "source": [
        "cnn.compile(optimizer='rmsprop',loss='categorical_crossentropy',metrics=['accuracy'])"
      ]
    },
    {
      "cell_type": "code",
      "execution_count": 13,
      "metadata": {
        "colab": {
          "base_uri": "https://localhost:8080/"
        },
        "id": "Wz6R1jdyxImX",
        "outputId": "ba900c4f-66a5-42d4-c492-80b975b2f6c6"
      },
      "outputs": [
        {
          "name": "stdout",
          "output_type": "stream",
          "text": [
            "Epoch 1/30\n",
            "\u001b[1m98/98\u001b[0m \u001b[32m━━━━━━━━━━━━━━━━━━━━\u001b[0m\u001b[37m\u001b[0m \u001b[1m505s\u001b[0m 5s/step - accuracy: 0.0506 - loss: 21.4685 - val_accuracy: 0.0826 - val_loss: 3.4854\n",
            "Epoch 2/30\n",
            "\u001b[1m98/98\u001b[0m \u001b[32m━━━━━━━━━━━━━━━━━━━━\u001b[0m\u001b[37m\u001b[0m \u001b[1m170s\u001b[0m 1s/step - accuracy: 0.0612 - loss: 3.8367 - val_accuracy: 0.1368 - val_loss: 3.4252\n",
            "Epoch 3/30\n",
            "\u001b[1m98/98\u001b[0m \u001b[32m━━━━━━━━━━━━━━━━━━━━\u001b[0m\u001b[37m\u001b[0m \u001b[1m145s\u001b[0m 1s/step - accuracy: 0.0789 - loss: 3.8087 - val_accuracy: 0.1880 - val_loss: 3.1744\n",
            "Epoch 4/30\n",
            "\u001b[1m98/98\u001b[0m \u001b[32m━━━━━━━━━━━━━━━━━━━━\u001b[0m\u001b[37m\u001b[0m \u001b[1m131s\u001b[0m 1s/step - accuracy: 0.1316 - loss: 3.9875 - val_accuracy: 0.2422 - val_loss: 3.0347\n",
            "Epoch 5/30\n",
            "\u001b[1m98/98\u001b[0m \u001b[32m━━━━━━━━━━━━━━━━━━━━\u001b[0m\u001b[37m\u001b[0m \u001b[1m152s\u001b[0m 1s/step - accuracy: 0.1824 - loss: 4.0521 - val_accuracy: 0.2991 - val_loss: 3.3456\n",
            "Epoch 6/30\n",
            "\u001b[1m98/98\u001b[0m \u001b[32m━━━━━━━━━━━━━━━━━━━━\u001b[0m\u001b[37m\u001b[0m \u001b[1m112s\u001b[0m 1s/step - accuracy: 0.2257 - loss: 4.2061 - val_accuracy: 0.1538 - val_loss: 2.9527\n",
            "Epoch 7/30\n",
            "\u001b[1m98/98\u001b[0m \u001b[32m━━━━━━━━━━━━━━━━━━━━\u001b[0m\u001b[37m\u001b[0m \u001b[1m112s\u001b[0m 1s/step - accuracy: 0.2478 - loss: 3.1876 - val_accuracy: 0.4929 - val_loss: 2.1993\n",
            "Epoch 8/30\n",
            "\u001b[1m98/98\u001b[0m \u001b[32m━━━━━━━━━━━━━━━━━━━━\u001b[0m\u001b[37m\u001b[0m \u001b[1m138s\u001b[0m 1s/step - accuracy: 0.3586 - loss: 3.5720 - val_accuracy: 0.1595 - val_loss: 10.8230\n",
            "Epoch 9/30\n",
            "\u001b[1m98/98\u001b[0m \u001b[32m━━━━━━━━━━━━━━━━━━━━\u001b[0m\u001b[37m\u001b[0m \u001b[1m146s\u001b[0m 1s/step - accuracy: 0.3779 - loss: 3.3457 - val_accuracy: 0.2593 - val_loss: 6.7759\n",
            "Epoch 10/30\n",
            "\u001b[1m98/98\u001b[0m \u001b[32m━━━━━━━━━━━━━━━━━━━━\u001b[0m\u001b[37m\u001b[0m \u001b[1m113s\u001b[0m 1s/step - accuracy: 0.4432 - loss: 2.6413 - val_accuracy: 0.4843 - val_loss: 2.2517\n",
            "Epoch 11/30\n",
            "\u001b[1m98/98\u001b[0m \u001b[32m━━━━━━━━━━━━━━━━━━━━\u001b[0m\u001b[37m\u001b[0m \u001b[1m132s\u001b[0m 1s/step - accuracy: 0.4887 - loss: 2.3002 - val_accuracy: 0.6838 - val_loss: 1.5681\n",
            "Epoch 12/30\n",
            "\u001b[1m98/98\u001b[0m \u001b[32m━━━━━━━━━━━━━━━━━━━━\u001b[0m\u001b[37m\u001b[0m \u001b[1m113s\u001b[0m 1s/step - accuracy: 0.5425 - loss: 2.0595 - val_accuracy: 0.6182 - val_loss: 1.8376\n",
            "Epoch 13/30\n",
            "\u001b[1m98/98\u001b[0m \u001b[32m━━━━━━━━━━━━━━━━━━━━\u001b[0m\u001b[37m\u001b[0m \u001b[1m150s\u001b[0m 1s/step - accuracy: 0.5765 - loss: 2.0362 - val_accuracy: 0.3875 - val_loss: 5.9175\n",
            "Epoch 14/30\n",
            "\u001b[1m98/98\u001b[0m \u001b[32m━━━━━━━━━━━━━━━━━━━━\u001b[0m\u001b[37m\u001b[0m \u001b[1m126s\u001b[0m 1s/step - accuracy: 0.5797 - loss: 2.9642 - val_accuracy: 0.7977 - val_loss: 1.1512\n",
            "Epoch 15/30\n",
            "\u001b[1m98/98\u001b[0m \u001b[32m━━━━━━━━━━━━━━━━━━━━\u001b[0m\u001b[37m\u001b[0m \u001b[1m104s\u001b[0m 1s/step - accuracy: 0.6332 - loss: 1.7093 - val_accuracy: 0.5442 - val_loss: 5.1295\n",
            "Epoch 16/30\n",
            "\u001b[1m98/98\u001b[0m \u001b[32m━━━━━━━━━━━━━━━━━━━━\u001b[0m\u001b[37m\u001b[0m \u001b[1m152s\u001b[0m 1s/step - accuracy: 0.6639 - loss: 2.0076 - val_accuracy: 0.8091 - val_loss: 1.2323\n",
            "Epoch 17/30\n",
            "\u001b[1m98/98\u001b[0m \u001b[32m━━━━━━━━━━━━━━━━━━━━\u001b[0m\u001b[37m\u001b[0m \u001b[1m104s\u001b[0m 1s/step - accuracy: 0.6833 - loss: 1.6138 - val_accuracy: 0.8490 - val_loss: 1.1664\n",
            "Epoch 18/30\n",
            "\u001b[1m98/98\u001b[0m \u001b[32m━━━━━━━━━━━━━━━━━━━━\u001b[0m\u001b[37m\u001b[0m \u001b[1m111s\u001b[0m 1s/step - accuracy: 0.7453 - loss: 1.1329 - val_accuracy: 0.6553 - val_loss: 3.4590\n",
            "Epoch 19/30\n",
            "\u001b[1m98/98\u001b[0m \u001b[32m━━━━━━━━━━━━━━━━━━━━\u001b[0m\u001b[37m\u001b[0m \u001b[1m114s\u001b[0m 1s/step - accuracy: 0.7022 - loss: 1.8725 - val_accuracy: 0.8746 - val_loss: 1.2475\n",
            "Epoch 20/30\n",
            "\u001b[1m98/98\u001b[0m \u001b[32m━━━━━━━━━━━━━━━━━━━━\u001b[0m\u001b[37m\u001b[0m \u001b[1m140s\u001b[0m 1s/step - accuracy: 0.7597 - loss: 1.3762 - val_accuracy: 0.8319 - val_loss: 1.5897\n",
            "Epoch 21/30\n",
            "\u001b[1m98/98\u001b[0m \u001b[32m━━━━━━━━━━━━━━━━━━━━\u001b[0m\u001b[37m\u001b[0m \u001b[1m136s\u001b[0m 1s/step - accuracy: 0.7144 - loss: 1.9724 - val_accuracy: 0.7806 - val_loss: 1.9912\n",
            "Epoch 22/30\n",
            "\u001b[1m98/98\u001b[0m \u001b[32m━━━━━━━━━━━━━━━━━━━━\u001b[0m\u001b[37m\u001b[0m \u001b[1m138s\u001b[0m 1s/step - accuracy: 0.7686 - loss: 1.1720 - val_accuracy: 0.8718 - val_loss: 1.1783\n",
            "Epoch 23/30\n",
            "\u001b[1m98/98\u001b[0m \u001b[32m━━━━━━━━━━━━━━━━━━━━\u001b[0m\u001b[37m\u001b[0m \u001b[1m124s\u001b[0m 1s/step - accuracy: 0.7998 - loss: 1.0449 - val_accuracy: 0.9060 - val_loss: 1.0870\n",
            "Epoch 24/30\n",
            "\u001b[1m98/98\u001b[0m \u001b[32m━━━━━━━━━━━━━━━━━━━━\u001b[0m\u001b[37m\u001b[0m \u001b[1m123s\u001b[0m 1s/step - accuracy: 0.7760 - loss: 1.3447 - val_accuracy: 0.8889 - val_loss: 1.1897\n",
            "Epoch 25/30\n",
            "\u001b[1m98/98\u001b[0m \u001b[32m━━━━━━━━━━━━━━━━━━━━\u001b[0m\u001b[37m\u001b[0m \u001b[1m150s\u001b[0m 1s/step - accuracy: 0.8173 - loss: 1.0037 - val_accuracy: 0.8661 - val_loss: 1.6119\n",
            "Epoch 26/30\n",
            "\u001b[1m98/98\u001b[0m \u001b[32m━━━━━━━━━━━━━━━━━━━━\u001b[0m\u001b[37m\u001b[0m \u001b[1m114s\u001b[0m 1s/step - accuracy: 0.8072 - loss: 1.2024 - val_accuracy: 0.9345 - val_loss: 1.2440\n",
            "Epoch 27/30\n",
            "\u001b[1m98/98\u001b[0m \u001b[32m━━━━━━━━━━━━━━━━━━━━\u001b[0m\u001b[37m\u001b[0m \u001b[1m102s\u001b[0m 1s/step - accuracy: 0.8248 - loss: 1.0429 - val_accuracy: 0.6980 - val_loss: 3.1603\n",
            "Epoch 28/30\n",
            "\u001b[1m98/98\u001b[0m \u001b[32m━━━━━━━━━━━━━━━━━━━━\u001b[0m\u001b[37m\u001b[0m \u001b[1m119s\u001b[0m 1s/step - accuracy: 0.7963 - loss: 1.1025 - val_accuracy: 0.9316 - val_loss: 0.9205\n",
            "Epoch 29/30\n",
            "\u001b[1m98/98\u001b[0m \u001b[32m━━━━━━━━━━━━━━━━━━━━\u001b[0m\u001b[37m\u001b[0m \u001b[1m135s\u001b[0m 1s/step - accuracy: 0.8227 - loss: 1.0825 - val_accuracy: 0.8889 - val_loss: 1.6452\n",
            "Epoch 30/30\n",
            "\u001b[1m98/98\u001b[0m \u001b[32m━━━━━━━━━━━━━━━━━━━━\u001b[0m\u001b[37m\u001b[0m \u001b[1m111s\u001b[0m 1s/step - accuracy: 0.8398 - loss: 0.9519 - val_accuracy: 0.8575 - val_loss: 1.6696\n"
          ]
        }
      ],
      "source": [
        "training_history=cnn.fit(x=training_set,validation_data=validation_set,epochs=30)"
      ]
    },
    {
      "cell_type": "markdown",
      "metadata": {
        "id": "KoI2ps1eIG8p"
      },
      "source": [
        "#SAVING MODEL"
      ]
    },
    {
      "cell_type": "code",
      "execution_count": 14,
      "metadata": {
        "colab": {
          "base_uri": "https://localhost:8080/"
        },
        "id": "go81Gv-5IPC9",
        "outputId": "73961f1e-fdf1-42b9-c2f7-df1e42863eff"
      },
      "outputs": [
        {
          "name": "stderr",
          "output_type": "stream",
          "text": [
            "WARNING:absl:You are saving your model as an HDF5 file via `model.save()` or `keras.saving.save_model(model)`. This file format is considered legacy. We recommend using instead the native Keras format, e.g. `model.save('my_model.keras')` or `keras.saving.save_model(model, 'my_model.keras')`. \n"
          ]
        }
      ],
      "source": [
        "cnn.save('trained_model.h5')"
      ]
    },
    {
      "cell_type": "code",
      "execution_count": 17,
      "metadata": {
        "colab": {
          "base_uri": "https://localhost:8080/"
        },
        "id": "S0XbPllQI5xF",
        "outputId": "1877887b-8c81-4d43-b04a-0d953b2340f4"
      },
      "outputs": [
        {
          "data": {
            "text/plain": [
              "{'accuracy': [0.04367373138666153,\n",
              "  0.0581245981156826,\n",
              "  0.08413615822792053,\n",
              "  0.1364804059267044,\n",
              "  0.1917148381471634,\n",
              "  0.201991006731987,\n",
              "  0.2649325728416443,\n",
              "  0.35709697008132935,\n",
              "  0.3856775760650635,\n",
              "  0.45407834649086,\n",
              "  0.4900449514389038,\n",
              "  0.5407835841178894,\n",
              "  0.5828516483306885,\n",
              "  0.6149646639823914,\n",
              "  0.6425818800926208,\n",
              "  0.6769428253173828,\n",
              "  0.6833654642105103,\n",
              "  0.7283236980438232,\n",
              "  0.7145150899887085,\n",
              "  0.7594733238220215,\n",
              "  0.752729594707489,\n",
              "  0.7668593525886536,\n",
              "  0.7854849100112915,\n",
              "  0.7825947403907776,\n",
              "  0.8086062669754028,\n",
              "  0.8127809762954712,\n",
              "  0.8169556856155396,\n",
              "  0.7999357581138611,\n",
              "  0.8195247054100037,\n",
              "  0.8355812430381775],\n",
              " 'loss': [7.991447925567627,\n",
              "  3.788217544555664,\n",
              "  3.7795357704162598,\n",
              "  4.593155384063721,\n",
              "  4.134185314178467,\n",
              "  5.616292476654053,\n",
              "  3.209615707397461,\n",
              "  3.483926773071289,\n",
              "  2.961479663848877,\n",
              "  2.5358078479766846,\n",
              "  2.3468966484069824,\n",
              "  2.0783424377441406,\n",
              "  1.8963251113891602,\n",
              "  2.1765940189361572,\n",
              "  1.6501083374023438,\n",
              "  1.597287654876709,\n",
              "  1.8596857786178589,\n",
              "  1.275895118713379,\n",
              "  1.8813726902008057,\n",
              "  1.283402919769287,\n",
              "  1.435881495475769,\n",
              "  1.2203389406204224,\n",
              "  1.2710164785385132,\n",
              "  1.3570436239242554,\n",
              "  1.1068068742752075,\n",
              "  1.1995667219161987,\n",
              "  1.0726715326309204,\n",
              "  1.1295652389526367,\n",
              "  1.0840001106262207,\n",
              "  0.9491913318634033],\n",
              " 'val_accuracy': [0.08262108266353607,\n",
              "  0.1367521435022354,\n",
              "  0.18803419172763824,\n",
              "  0.2421652376651764,\n",
              "  0.29914531111717224,\n",
              "  0.1538461595773697,\n",
              "  0.4928774833679199,\n",
              "  0.15954415500164032,\n",
              "  0.25925925374031067,\n",
              "  0.4843304753303528,\n",
              "  0.6837607026100159,\n",
              "  0.6182336211204529,\n",
              "  0.38746437430381775,\n",
              "  0.7977207899093628,\n",
              "  0.5441595315933228,\n",
              "  0.809116780757904,\n",
              "  0.8490028381347656,\n",
              "  0.6552706360816956,\n",
              "  0.874643862247467,\n",
              "  0.8319088220596313,\n",
              "  0.7806267738342285,\n",
              "  0.8717948794364929,\n",
              "  0.9059829115867615,\n",
              "  0.8888888955116272,\n",
              "  0.8660968542098999,\n",
              "  0.934472918510437,\n",
              "  0.6980056762695312,\n",
              "  0.9316239356994629,\n",
              "  0.8888888955116272,\n",
              "  0.8575498461723328],\n",
              " 'val_loss': [3.4853904247283936,\n",
              "  3.4251604080200195,\n",
              "  3.1744134426116943,\n",
              "  3.034712791442871,\n",
              "  3.345641851425171,\n",
              "  2.9527382850646973,\n",
              "  2.1992554664611816,\n",
              "  10.823009490966797,\n",
              "  6.775928974151611,\n",
              "  2.251671314239502,\n",
              "  1.5680787563323975,\n",
              "  1.8376468420028687,\n",
              "  5.917484760284424,\n",
              "  1.1512103080749512,\n",
              "  5.1295247077941895,\n",
              "  1.2322850227355957,\n",
              "  1.1663790941238403,\n",
              "  3.458970069885254,\n",
              "  1.2474936246871948,\n",
              "  1.5897057056427002,\n",
              "  1.9911737442016602,\n",
              "  1.1783422231674194,\n",
              "  1.0869905948638916,\n",
              "  1.189653754234314,\n",
              "  1.6118786334991455,\n",
              "  1.2439942359924316,\n",
              "  3.1602985858917236,\n",
              "  0.9204903244972229,\n",
              "  1.6451780796051025,\n",
              "  1.6695502996444702]}"
            ]
          },
          "execution_count": 17,
          "metadata": {},
          "output_type": "execute_result"
        }
      ],
      "source": [
        "training_history.history # Return Dictionary of history"
      ]
    },
    {
      "cell_type": "code",
      "execution_count": 26,
      "metadata": {
        "id": "aRnWQ7GQIWz_"
      },
      "outputs": [],
      "source": [
        "# RECORDING HISTORY WITH JSON\n",
        "import json\n",
        "with open('training_hist.json','w')as f:\n",
        "  json.dump(training_history.history,f)"
      ]
    },
    {
      "cell_type": "code",
      "execution_count": 27,
      "metadata": {
        "colab": {
          "base_uri": "https://localhost:8080/"
        },
        "id": "__Q26hFcJZZh",
        "outputId": "affb32fd-cbf3-4711-812a-16e6c6e77136"
      },
      "outputs": [
        {
          "name": "stdout",
          "output_type": "stream",
          "text": [
            "dict_keys(['accuracy', 'loss', 'val_accuracy', 'val_loss'])\n"
          ]
        }
      ],
      "source": [
        "print(training_history.history.keys())"
      ]
    },
    {
      "cell_type": "markdown",
      "metadata": {
        "id": "mdl3p9OyJzAw"
      },
      "source": [
        "#CALCULATING ACCURACY OF MODEL ACHIEVED ON VALIDATION SET"
      ]
    },
    {
      "cell_type": "code",
      "execution_count": 28,
      "metadata": {
        "colab": {
          "base_uri": "https://localhost:8080/"
        },
        "id": "zj-6kUYLJq_2",
        "outputId": "bd354843-f959-413a-a6be-72585d6349ea"
      },
      "outputs": [
        {
          "name": "stdout",
          "output_type": "stream",
          "text": [
            "Validation set accuracy: 85.75498461723328\n"
          ]
        }
      ],
      "source": [
        "print(\"Validation set accuracy: {}\".format(training_history.history['val_accuracy'][-1]*100))\n"
      ]
    },
    {
      "cell_type": "markdown",
      "metadata": {
        "id": "DZ6pj48YLM5m"
      },
      "source": [
        "#ACCURACY VISUALIZATION"
      ]
    },
    {
      "cell_type": "markdown",
      "metadata": {
        "id": "TMW9v0c7LbrM"
      },
      "source": [
        "###Training Visualization"
      ]
    },
    {
      "cell_type": "code",
      "execution_count": 32,
      "metadata": {
        "colab": {
          "base_uri": "https://localhost:8080/",
          "height": 472
        },
        "id": "s351bHi3KGAR",
        "outputId": "db1f2c2c-de8b-4e0f-901d-7d842913f4cd"
      },
      "outputs": [
        {
          "data": {
            "image/png": "[encoded data removed]",
            "text/plain": [
              "<Figure size 640x480 with 1 Axes>"
            ]
          },
          "metadata": {},
          "output_type": "display_data"
        }
      ],
      "source": [
        "epochs = [i for i in range(1,31)]\n",
        "plt.plot(epochs,training_history.history['accuracy'],color = 'red')\n",
        "plt.xlabel('No. of Epochs')\n",
        "plt.ylabel('Training Accuracy')\n",
        "plt.title('Visualization of Training Accuracy Result')\n",
        "plt.show()"
      ]
    },
    {
      "cell_type": "markdown",
      "metadata": {
        "id": "BA7B1D7HNGwa"
      },
      "source": [
        "###Validation Accuracy"
      ]
    },
    {
      "cell_type": "code",
      "execution_count": 34,
      "metadata": {
        "colab": {
          "base_uri": "https://localhost:8080/",
          "height": 472
        },
        "id": "Rmids3ViL1w_",
        "outputId": "6ea3aa28-8af7-4923-9893-4d24109fa791"
      },
      "outputs": [
        {
          "data": {
            "image/png": "[encoded data removed]",
            "text/plain": [
              "<Figure size 640x480 with 1 Axes>"
            ]
          },
          "metadata": {},
          "output_type": "display_data"
        }
      ],
      "source": [
        "plt.plot(epochs,training_history.history['val_accuracy'],color='blue')\n",
        "plt.xlabel(\"No. of Epochs\")\n",
        "plt.ylabel('Validation Accuracy')\n",
        "plt.title('Visualization of Validation Accuracy Result')\n",
        "plt.show()\n"
      ]
    },
    {
      "cell_type": "code",
      "execution_count": null,
      "metadata": {
        "id": "NkQnin_nNX-0"
      },
      "outputs": [],
      "source": []
    }
  ],
  "metadata": {
    "colab": {
      "provenance": [],
      "toc_visible": true
    },
    "kernelspec": {
      "display_name": "Python 3",
      "name": "python3"
    },
    "language_info": {
      "name": "python"
    }
  },
  "nbformat": 4,
  "nbformat_minor": 0
}
